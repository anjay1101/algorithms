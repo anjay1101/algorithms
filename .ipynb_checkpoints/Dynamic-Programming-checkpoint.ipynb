{
 "cells": [
  {
   "cell_type": "markdown",
   "metadata": {},
   "source": [
    "# Dynamic-Programming Algorithms\n",
    "This notebook contains various implemented dynamic programming algorithms. \n",
    "### Theory\n",
    "Dynamic-Programming algorithms work by building an optimal solution for a problem from optimal solutions for subproblems. The two main tasks involved when coming up with a DP solution are to: \n",
    "1. Define the sub-problems \n",
    "2. Define the recursive nature or how the optimal solutions to sub-problems combine into solutions for bigger problems. \n",
    "\n",
    "The key efficiency step is defining and storing sub-problems in such a way that their solutions get used multiple times in solving larger problems. "
   ]
  },
  {
   "cell_type": "code",
   "execution_count": 15,
   "metadata": {},
   "outputs": [],
   "source": [
    "import math\n",
    "import time\n",
    "from datetime import datetime"
   ]
  },
  {
   "cell_type": "markdown",
   "metadata": {},
   "source": [
    "#### Fibonnaci Numbers; a simple example\n",
    "The Fibonnaci Numbers are defined by: \n",
    "$f(n)=\\begin{cases} \n",
    "      0 & n=0 \\\\\n",
    "      1 & n=1 \\\\\n",
    "      f(n-1)+f(n-2) & n\\geq 2 \\\\\n",
    "   \\end{cases}\n",
    "$\n",
    "\n",
    "Our objective is to build a DP solution to the problem of determining a sequence of Fibonnaci numbers ending with the n$^{th}$ one. The sub-problem, P(i), will be defined as the i$^{th}$ ith Fibonnaci number. As we build our solution, we will store the previously determined sub-problems in a set, so we don't have to calculate them again. The recursive step is defined by the solution to $P(i)$ being $P(i-1)+P(i-2)$."
   ]
  },
  {
   "cell_type": "code",
   "execution_count": 24,
   "metadata": {},
   "outputs": [
    {
     "name": "stdout",
     "output_type": "stream",
     "text": [
      "Sequence of length  5 :  [0, 1, 1, 2, 3]\n",
      "Sequence of length  10 :  [0, 1, 1, 2, 3, 5, 8, 13, 21, 34]\n",
      "Sequence of length  35 :  [0, 1, 1, 2, 3, 5, 8, 13, 21, 34, 55, 89, 144, 233, 377, 610, 987, 1597, 2584, 4181, 6765, 10946, 17711, 28657, 46368, 75025, 121393, 196418, 317811, 514229, 832040, 1346269, 2178309, 3524578, 5702887]\n",
      "\n",
      "Total execution time for DP:  0:00:00.000313\n",
      "Total execution time for D&C:  0:00:03.759767\n",
      "\n",
      "Notice that Dynamic Programming much faster than simple divide & conquer recursion due to storing sub-problem solutions\n"
     ]
    }
   ],
   "source": [
    "#DP implementation\n",
    "#n is the length of the fibonnaci series desired, A is a dictionary of fibonnaci numbers \n",
    "def DP_Fib(n,A): \n",
    "    if(n in A): #nth fibonnaci number already computed\n",
    "        return #do nothing\n",
    "    if(n <= 1):\n",
    "        A[0]=0\n",
    "        A[1]=1\n",
    "    else:\n",
    "        DP_Fib(n-1,A) \n",
    "        f_n = A[n-1] + A[n-2] #we know both are in A, since calculating the (n-1)th fib number requires the (n-2)th\n",
    "        A[n] = f_n #adds nth fib number to dict\n",
    "    \n",
    "    return\n",
    "\n",
    "#Divide n Conquer implementation\n",
    "def DnC_Fib(n):\n",
    "    if(n <= 1): #bc\n",
    "        return n\n",
    "    \n",
    "    return DnC_Fib(n-1) + DnC_Fib(n-2)\n",
    "\n",
    "#l = length\n",
    "def DP_fib_seq(l):\n",
    "    A = {}\n",
    "    DP_Fib(l-1,A)\n",
    "    \n",
    "    seq = []\n",
    "    for i in range(l):\n",
    "        seq.append(A[i])\n",
    "    \n",
    "    print(\"Sequence of length \",l,\": \",seq)\n",
    "    return\n",
    "\n",
    "\n",
    "\n",
    "DP_fib_seq(5)\n",
    "DP_fib_seq(10)\n",
    "\n",
    "\n",
    "n = 35\n",
    "\n",
    "start_time = datetime.now()\n",
    "DP_fib_seq(n)\n",
    "print('\\nTotal execution time for DP: ', datetime.now() - start_time)\n",
    "\n",
    "start_time = datetime.now()\n",
    "DnC_Fib(n)\n",
    "print('Total execution time for D&C: ', datetime.now() - start_time)\n",
    "\n",
    "print(\"\\nNotice that Dynamic Programming much faster than simple divide &\" \n",
    "      , \"conquer recursion due to storing sub-problem solutions\")\n",
    "\n",
    "    "
   ]
  },
  {
   "cell_type": "markdown",
   "metadata": {},
   "source": [
    "### Maximizing an Expression\n",
    "Given a sequence of numbers with standard operations in between, determine the optimal placement of paranthesis for ensuring the resulting expression has the largest possible value. \n",
    "\n",
    "<b>For example, consider the following sequence:</b> $\\{5 - 3 - 10 * 15 + 5\\}$ \n",
    "\n",
    "Placing the paranthesis like this $\\{(( (5 - 1) - 10) * 15) + 5\\}$ gives an output of -85 \n",
    "\n",
    "But with this placement, $\\{(5 - (1 - 10) ) * (15 + 5)\\}$, you get an output of 280\n",
    "\n",
    "<b> Solution </b>\n",
    "\n",
    "We will define our sub-problems as $F(i,j)$ and $F^{*}(i,j)$: the arrangement of paranthesis between indicies $i$ and $j$ that gives the maximium and minimium value respectively for the expression. \n",
    "\n",
    "The recursive step will be determing $F(i,j)$ through using the values of $F(l,k)$ and $F^{*}(l,k)$ where $(l,k)$ is contained in $(i,j)$ and not equal to $(i,j)$. We can do so in the following way:\n",
    "\n",
    "$F(i,j)=max(k)\\begin{cases} \n",
    "      F(i,k)\\circ F(k+1,j)& \\\\\n",
    "      F(i,k)\\circ F^{*}(k+1,j)& \\\\\n",
    "      F^{*}(i,k)\\circ F(k+1,j)& \\\\\n",
    "      F^{*}(i,k)\\circ F^{*}(k+1,j)& \\\\\n",
    "   \\end{cases}  i\\leq k < j-1 \\text{ or }i< k \\leq j-1 \\text{ where }\\circ \\text{ is whichever operation comes between.}\n",
    "$\n",
    "\n",
    "We must keep track of the minimium value because operations on minimium values can result in a maximium value. For example, two negative numbers multiplied together give a positive number. "
   ]
  },
  {
   "cell_type": "code",
   "execution_count": null,
   "metadata": {},
   "outputs": [],
   "source": []
  }
 ],
 "metadata": {
  "kernelspec": {
   "display_name": "Python 3",
   "language": "python",
   "name": "python3"
  },
  "language_info": {
   "codemirror_mode": {
    "name": "ipython",
    "version": 3
   },
   "file_extension": ".py",
   "mimetype": "text/x-python",
   "name": "python",
   "nbconvert_exporter": "python",
   "pygments_lexer": "ipython3",
   "version": "3.7.4"
  }
 },
 "nbformat": 4,
 "nbformat_minor": 4
}
