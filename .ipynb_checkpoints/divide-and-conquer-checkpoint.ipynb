{
 "cells": [
  {
   "cell_type": "markdown",
   "metadata": {},
   "source": [
    "# Divide-and-Conquer Algorithms\n",
    "This notebook explores and implements various divide-and-conquer algorithms, some popular and well-known, others just solutions to homework and textbook problems. \n",
    "### Theory\n",
    "Divide-and-Conquer algorithms are recursive by nature and usually rely on dividing a problem into sub-problems, calling itself on those sub-problems and then, combining the solution in some shape or form. The most common Divide-and-Conquer algorithm has to be binary-search on a sorted array. It takes a problem of finding if an element exists in an array of length n, and breaks it into, a smaller problem of finding if an element exists in an array of length $\\frac{n}{2}$ by locating which half of the array the element would be in. "
   ]
  },
  {
   "cell_type": "code",
   "execution_count": 14,
   "metadata": {},
   "outputs": [],
   "source": [
    "import math"
   ]
  },
  {
   "cell_type": "markdown",
   "metadata": {},
   "source": [
    "#### Merge-sort\n",
    "This popular Divide-and-Conquer algorithm to sort an array works by splitting the array in half, sorting the two halves, and then, combining the solutions. It is $\\mathcal{O}(n\\log{}n)$. This is because each recursive call is on an array of size $\\frac{n}{2}$, making the total number of recursive calls log(n). Furthemore, since combining the arrays takes O(n) for each of these, the total complexity is $\\mathcal{O}(n\\log{}n)$"
   ]
  },
  {
   "cell_type": "code",
   "execution_count": 32,
   "metadata": {},
   "outputs": [],
   "source": [
    "#Merge-Sort implementation\n",
    "\n",
    "#A is the array to be sorted, l is the index of the first element, u index of the last element\n",
    "def merge_sort(A,l,u):\n",
    "    \n",
    "    #base-case\n",
    "    if(l==u): \n",
    "        return [A[l]]\n",
    "    \n",
    "    #recursive-case\n",
    "    m = math.floor((l+u)/2)\n",
    "    lower = merge_sort(A,l,m)\n",
    "    upper = merge_sort(A,m+1,u)\n",
    "    \n",
    "    return merge(lower,upper,m-l+1,u-m)\n",
    "    \n",
    "def merge(A,B,la,lb): #A and B are both sorted arrays and n is the length of each\n",
    "    X=[] #initialize to empty array\n",
    "    i,j=0,0\n",
    "    for _ in range(la+lb):\n",
    "        if(i == la):\n",
    "            X.append(B[j]) \n",
    "            j = j + 1\n",
    "        elif(j == lb):\n",
    "            X.append(A[i])\n",
    "            i = i + 1\n",
    "        elif(A[i]<B[j]):\n",
    "            X.append(A[i])\n",
    "            i = i + 1\n",
    "        else:\n",
    "            X.append(B[j]) \n",
    "            j = j + 1\n",
    "            \n",
    "    return X\n",
    "\n",
    "#tests merge sort\n",
    "def test_merge_sort():\n",
    "    A = [4,3,2,1]\n",
    "    A_sorted = merge_sort(A,0,3)\n",
    "    print(A_sorted, \"Should be: 1,2,3,4\")\n",
    "    \n",
    "    A = [3,5,2,1,8,-1,-5]\n",
    "    A_sorted = merge_sort(A,0,6)\n",
    "    print(A_sorted, \"Should be: -5,-1,1,2,3,5,8\")\n",
    "    \n",
    "    \n",
    "            "
   ]
  },
  {
   "cell_type": "code",
   "execution_count": 34,
   "metadata": {},
   "outputs": [
    {
     "name": "stdout",
     "output_type": "stream",
     "text": [
      "[1, 2, 3, 4] Should be: 1,2,3,4\n",
      "[-5, -1, 1, 2, 3, 5, 8] Should be: -5,-1,1,2,3,5,8\n"
     ]
    }
   ],
   "source": [
    "test_merge_sort()"
   ]
  },
  {
   "cell_type": "markdown",
   "metadata": {},
   "source": [
    "\n",
    "#### Fast Integer multiplication via the Fast-Fourier-Transform\n",
    "Given 2 large binary numbers each represented by a sequence of numbers of length n, calculate them multiplied together in  $\\mathcal{O}(n\\log{}n)$ time. This algorithm works by using the FFT which calculates the convolution of two sequences in $\\mathcal{O}(n\\log{}n)$ time. "
   ]
  },
  {
   "cell_type": "code",
   "execution_count": null,
   "metadata": {},
   "outputs": [],
   "source": []
  }
 ],
 "metadata": {
  "kernelspec": {
   "display_name": "Python 3",
   "language": "python",
   "name": "python3"
  },
  "language_info": {
   "codemirror_mode": {
    "name": "ipython",
    "version": 3
   },
   "file_extension": ".py",
   "mimetype": "text/x-python",
   "name": "python",
   "nbconvert_exporter": "python",
   "pygments_lexer": "ipython3",
   "version": "3.7.4"
  }
 },
 "nbformat": 4,
 "nbformat_minor": 4
}
